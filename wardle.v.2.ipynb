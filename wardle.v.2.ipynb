{
 "cells": [
  {
   "cell_type": "code",
   "execution_count": 171,
   "metadata": {},
   "outputs": [],
   "source": [
    "import random\n",
    "import re\n",
    "import string\n",
    "import pandas as pd\n",
    "\n",
    "class Wordle(object):\n",
    "\n",
    "    def __init__(self):\n",
    "        self._answers = self.readfiles('2315_possible_answers.txt')\n",
    "        self._allowed = self.readfiles('12972_allowed_words.txt')\n",
    "        self._allowedWordEntropy = {line.split()[0] : float(line.split()[1])  for line in self.readfiles('12972_allowed_words_entroy.txt')}\n",
    "        self._wordleWord = random.choice(self._answers)\n",
    "\n",
    "        print(self._wordleWord.upper())\n",
    "\n",
    "    #----   Reading Files -------\n",
    "\n",
    "    def readfiles(self, file , entropy = False):\n",
    "        with open(file,'r') as fh:\n",
    "            lines = fh.readlines()\n",
    "        return [line.rstrip('\\n') for line in lines]\n",
    "\n",
    "    #----- Green Gray or Yellow\n",
    "    def isMatched(self,text, pattern):\n",
    "        if re.search(pattern, text):\n",
    "            return True\n",
    "        return False\n",
    "    \n",
    "    def gray(self, grayset, allowed = None):\n",
    "        if allowed is None:\n",
    "            allowed = self._passed\n",
    "\n",
    "        if grayset == \"\":\n",
    "            return allowed\n",
    "        \n",
    "        pattern = re.compile('[{0}]'.format(grayset))\n",
    "        passed_ = []\n",
    "        for word in allowed:\n",
    "            if not self.isMatched(word, pattern):\n",
    "                passed_.append(word)\n",
    "        \n",
    "        return passed_\n",
    "\n",
    "\n",
    "    def green(self,greenList,allowed):\n",
    "        passed_ = []       \n",
    "        if greenList == []:\n",
    "            return allowed\n",
    "        else:\n",
    "            char , position = greenList[0]\n",
    "            for word in allowed:\n",
    "                if word[position] == char:\n",
    "                    passed_.append(word)\n",
    "            return self.green(greenList[1:],passed_)\n",
    "    \n",
    "    def notGreen(self,greenList,allowed):\n",
    "        passed_ = []       \n",
    "        if greenList == []:\n",
    "            return allowed\n",
    "        else:\n",
    "            char , position = greenList[0]\n",
    "            for word in allowed:\n",
    "                if word[position] != char:\n",
    "                    passed_.append(word)\n",
    "            return self.notGreen(greenList[1:],passed_)\n",
    "\n",
    "    def yellow(self, yellowset,yellowList,allowed = None):\n",
    "        if allowed is None:\n",
    "            allowed = self._passed\n",
    "\n",
    "        if yellowset == \"\":\n",
    "            return allowed\n",
    "        \n",
    "        pattern = re.compile('[{0}]'.format(yellowset))\n",
    "        passed_ = []\n",
    "        for word in allowed:\n",
    "            if self.isMatched(word, pattern):\n",
    "                passed_.append(word)\n",
    "        \n",
    "        passed_ = self.notGreen(yellowList,passed_)\n",
    "        return passed_\n",
    "\n",
    "    #---- WordleWord Test\n",
    "\n",
    "    def compareWord(self,guess,word, tup = False):\n",
    "        gray_ = \"\"\n",
    "        yellow_ = \"\"\n",
    "        yellowList_ = set()\n",
    "        greenList_ = set()\n",
    "        \n",
    "        for i in range(0,5):\n",
    "            if guess[i] == word[i]:\n",
    "                greenList_.add((guess[i],i))\n",
    "            else:\n",
    "                if guess[i] in word:\n",
    "                    if guess[i] not in yellow_:\n",
    "                        yellow_ += guess[i]\n",
    "                    yellowList_.add((guess[i],i))\n",
    "                if guess[i] not in word and guess[i] not in gray_:\n",
    "                    gray_ += guess[i]\n",
    "        \n",
    "        if tup:\n",
    "            return (gray_, tuple(yellowList_), tuple(greenList_))\n",
    "        else:\n",
    "            return {    \"gray\"      : gray_ ,\n",
    "                    \"yellow\"    : yellow_,\n",
    "                    \"yellowList\" : yellowList_,\n",
    "                    \"greenList\" : greenList_ }\n",
    "\n",
    "    \n",
    "    def bestGuess(self,allowed):\n",
    "        guess = random.choices(allowed, weights = [self._allowedWordEntropy[e]  for e in allowed])[0]\n",
    "        return guess.upper(),self._allowedWordEntropy[guess]\n",
    "        \n"
   ]
  },
  {
   "cell_type": "code",
   "execution_count": 226,
   "metadata": {},
   "outputs": [
    {
     "name": "stdout",
     "output_type": "stream",
     "text": [
      "FLANK\n"
     ]
    },
    {
     "data": {
      "text/plain": [
       "('NATES', 5.895559211507816)"
      ]
     },
     "execution_count": 226,
     "metadata": {},
     "output_type": "execute_result"
    }
   ],
   "source": [
    "gm = Wordle()\n",
    "gm.bestGuess(gm._allowed)"
   ]
  },
  {
   "cell_type": "code",
   "execution_count": 194,
   "metadata": {},
   "outputs": [
    {
     "data": {
      "text/plain": [
       "4.646348149945403"
      ]
     },
     "execution_count": 194,
     "metadata": {},
     "output_type": "execute_result"
    }
   ],
   "source": [
    "total = 0\n",
    "for i in range(1000):\n",
    "    _, e = gm.bestGuess(gm._allowed)\n",
    "    total += e\n",
    "\n",
    "total/1000\n",
    "\n"
   ]
  },
  {
   "cell_type": "code",
   "execution_count": null,
   "metadata": {},
   "outputs": [],
   "source": []
  }
 ],
 "metadata": {
  "interpreter": {
   "hash": "779d32e33bbdd4b0f11414551ecd4e05fdefdab11a22ed998b2665b85200c83e"
  },
  "kernelspec": {
   "display_name": "Python 3.9.7 ('base')",
   "language": "python",
   "name": "python3"
  },
  "language_info": {
   "codemirror_mode": {
    "name": "ipython",
    "version": 3
   },
   "file_extension": ".py",
   "mimetype": "text/x-python",
   "name": "python",
   "nbconvert_exporter": "python",
   "pygments_lexer": "ipython3",
   "version": "3.9.7"
  },
  "orig_nbformat": 4
 },
 "nbformat": 4,
 "nbformat_minor": 2
}
