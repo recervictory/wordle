{
 "cells": [
  {
   "cell_type": "code",
   "execution_count": 3,
   "metadata": {},
   "outputs": [],
   "source": [
    " import util\n",
    " import math\n",
    "\n",
    " class Entropy(object):\n",
    "\n",
    "    def __init__(self):\n",
    "        self.wd = util.Wordle()\n",
    "        self.allowed = self.wd._allowed\n",
    "        self.totalWord = len(self.allowed)\n",
    "    \n",
    "    def findWordProb(self, guessWord, wordslist = None):\n",
    "        if wordslist is None:\n",
    "            wordslist = self.allowed\n",
    "        wordprob = {}\n",
    "        for word in wordslist:\n",
    "            key = self.wd.compareWord(guessWord,word)\n",
    "            if key in wordprob:\n",
    "                wordprob[key].append(word)\n",
    "            else:\n",
    "                wordprob[key] = [word]\n",
    "        \n",
    "        wordprob = {key: len(value)/self.totalWord for key, value in wordprob.items()}\n",
    "        return wordprob\n",
    "\n",
    "    def calEntropy(self,wordprob):\n",
    "        eI = 0\n",
    "        for p in wordprob:\n",
    "            eI += p * math.log2(1/p)\n",
    "        return eI\n",
    "    \n",
    "    def run(self):\n",
    "        entropy = {}\n",
    "        for word in self.allowed:\n",
    "            eI = self.calEntropy(self.findWordProb(word).values())\n",
    "            entropy['word'] = eI\n",
    "            print(word,eI)\n",
    "        return entropy\n"
   ]
  },
  {
   "cell_type": "code",
   "execution_count": 5,
   "metadata": {},
   "outputs": [
    {
     "name": "stdout",
     "output_type": "stream",
     "text": [
      "aahed 4.291696111356381\n",
      "aalii 3.7011301180283955\n",
      "aargh 3.979746322492918\n",
      "aarti 4.619455089455426\n",
      "abaca 2.9913183940148325\n",
      "abaci 3.7044927189356636\n",
      "aback 3.33257290547641\n",
      "abacs 4.1627377441060265\n",
      "abaft 3.4680461268920104\n",
      "abaka 2.886664188021491\n",
      "abamp 3.3896939234458174\n",
      "aband 3.8204284236452724\n",
      "abase 4.522011376442287\n",
      "abash 3.8816587560218\n",
      "abask 3.8088510513671467\n",
      "abate 4.361966681449419\n",
      "abaya 2.942857646880252\n",
      "abbas 3.5373309784395355\n",
      "abbed 4.008112050436686\n",
      "abbes 4.610505133210739\n",
      "abbey 3.971875748303231\n",
      "abbot 3.832291512967505\n",
      "abcee 4.127472296534378\n",
      "abeam 3.9177568822751137\n",
      "abear 4.320716683129805\n",
      "abele 4.31120429525079\n",
      "abers 5.4311196821973855\n",
      "abets 5.32674812861554\n",
      "abhor 4.455553661291695\n",
      "abide 4.879886824590442\n",
      "abies 5.544206783078797\n",
      "abled 4.905542940271676\n",
      "abler 5.121941686707785\n",
      "ables 5.50709252061729\n",
      "ablet 5.07657822991735\n",
      "ablow 4.1862731230990535\n",
      "abmho 4.058076389185657\n",
      "abode 4.859580933756232\n",
      "abohm 4.103475627278621\n",
      "aboil 4.750112205076468\n",
      "aboma 3.735074222056887\n",
      "aboon 3.89593021132791\n",
      "abord 4.732772338973922\n",
      "abore 5.162379933899919\n",
      "abort 4.860730799838236\n",
      "about 4.546585568244945\n",
      "above 4.397635099174613\n",
      "abram 3.8478596688807065\n",
      "abray 3.955231209499655\n",
      "abrim 4.588866132629437\n",
      "abrin 4.80908578399077\n",
      "abris 5.3172246063912905\n",
      "absey 5.014276791525447\n",
      "absit 4.928516186781015\n",
      "abuna 3.7342226048182057\n",
      "abune 4.795524708524739\n",
      "abuse 5.017494317302701\n",
      "abuts 4.956024122675051\n",
      "abuzz 2.8204108618198505\n",
      "abyes 5.167510267603394\n",
      "abysm 4.2590706517939125\n",
      "abyss 3.9687406244872454\n",
      "acais 4.609318105377818\n",
      "acari 4.197722420490696\n",
      "accas 3.6622529977212026\n",
      "accoy 3.7732748935402016\n"
     ]
    },
    {
     "ename": "KeyboardInterrupt",
     "evalue": "",
     "output_type": "error",
     "traceback": [
      "\u001b[0;31m---------------------------------------------------------------------------\u001b[0m",
      "\u001b[0;31mKeyboardInterrupt\u001b[0m                         Traceback (most recent call last)",
      "\u001b[0;32m/tmp/ipykernel_38586/1879346166.py\u001b[0m in \u001b[0;36m<module>\u001b[0;34m\u001b[0m\n\u001b[1;32m      1\u001b[0m \u001b[0me\u001b[0m \u001b[0;34m=\u001b[0m \u001b[0mEntropy\u001b[0m\u001b[0;34m(\u001b[0m\u001b[0;34m)\u001b[0m\u001b[0;34m\u001b[0m\u001b[0;34m\u001b[0m\u001b[0m\n\u001b[1;32m      2\u001b[0m \u001b[0;34m\u001b[0m\u001b[0m\n\u001b[0;32m----> 3\u001b[0;31m \u001b[0me\u001b[0m\u001b[0;34m.\u001b[0m\u001b[0mrun\u001b[0m\u001b[0;34m(\u001b[0m\u001b[0;34m)\u001b[0m\u001b[0;34m\u001b[0m\u001b[0;34m\u001b[0m\u001b[0m\n\u001b[0m",
      "\u001b[0;32m/tmp/ipykernel_38586/2017158298.py\u001b[0m in \u001b[0;36mrun\u001b[0;34m(self)\u001b[0m\n\u001b[1;32m     32\u001b[0m        \u001b[0mentropy\u001b[0m \u001b[0;34m=\u001b[0m \u001b[0;34m{\u001b[0m\u001b[0;34m}\u001b[0m\u001b[0;34m\u001b[0m\u001b[0;34m\u001b[0m\u001b[0m\n\u001b[1;32m     33\u001b[0m        \u001b[0;32mfor\u001b[0m \u001b[0mword\u001b[0m \u001b[0;32min\u001b[0m \u001b[0mself\u001b[0m\u001b[0;34m.\u001b[0m\u001b[0mallowed\u001b[0m\u001b[0;34m:\u001b[0m\u001b[0;34m\u001b[0m\u001b[0;34m\u001b[0m\u001b[0m\n\u001b[0;32m---> 34\u001b[0;31m            \u001b[0meI\u001b[0m \u001b[0;34m=\u001b[0m \u001b[0mself\u001b[0m\u001b[0;34m.\u001b[0m\u001b[0mcalEntropy\u001b[0m\u001b[0;34m(\u001b[0m\u001b[0mself\u001b[0m\u001b[0;34m.\u001b[0m\u001b[0mfindWordProb\u001b[0m\u001b[0;34m(\u001b[0m\u001b[0mword\u001b[0m\u001b[0;34m)\u001b[0m\u001b[0;34m.\u001b[0m\u001b[0mvalues\u001b[0m\u001b[0;34m(\u001b[0m\u001b[0;34m)\u001b[0m\u001b[0;34m)\u001b[0m\u001b[0;34m\u001b[0m\u001b[0;34m\u001b[0m\u001b[0m\n\u001b[0m\u001b[1;32m     35\u001b[0m            \u001b[0mentropy\u001b[0m\u001b[0;34m[\u001b[0m\u001b[0;34m'word'\u001b[0m\u001b[0;34m]\u001b[0m \u001b[0;34m=\u001b[0m \u001b[0meI\u001b[0m\u001b[0;34m\u001b[0m\u001b[0;34m\u001b[0m\u001b[0m\n\u001b[1;32m     36\u001b[0m            \u001b[0mprint\u001b[0m\u001b[0;34m(\u001b[0m\u001b[0mword\u001b[0m\u001b[0;34m,\u001b[0m\u001b[0meI\u001b[0m\u001b[0;34m)\u001b[0m\u001b[0;34m\u001b[0m\u001b[0;34m\u001b[0m\u001b[0m\n",
      "\u001b[0;32m/tmp/ipykernel_38586/2017158298.py\u001b[0m in \u001b[0;36mfindWordProb\u001b[0;34m(self, guessWord, wordslist)\u001b[0m\n\u001b[1;32m     14\u001b[0m        \u001b[0mwordprob\u001b[0m \u001b[0;34m=\u001b[0m \u001b[0;34m{\u001b[0m\u001b[0;34m}\u001b[0m\u001b[0;34m\u001b[0m\u001b[0;34m\u001b[0m\u001b[0m\n\u001b[1;32m     15\u001b[0m        \u001b[0;32mfor\u001b[0m \u001b[0mword\u001b[0m \u001b[0;32min\u001b[0m \u001b[0mwordslist\u001b[0m\u001b[0;34m:\u001b[0m\u001b[0;34m\u001b[0m\u001b[0;34m\u001b[0m\u001b[0m\n\u001b[0;32m---> 16\u001b[0;31m            \u001b[0mkey\u001b[0m \u001b[0;34m=\u001b[0m \u001b[0mself\u001b[0m\u001b[0;34m.\u001b[0m\u001b[0mwd\u001b[0m\u001b[0;34m.\u001b[0m\u001b[0mcompareWord\u001b[0m\u001b[0;34m(\u001b[0m\u001b[0mguessWord\u001b[0m\u001b[0;34m,\u001b[0m\u001b[0mword\u001b[0m\u001b[0;34m)\u001b[0m\u001b[0;34m\u001b[0m\u001b[0;34m\u001b[0m\u001b[0m\n\u001b[0m\u001b[1;32m     17\u001b[0m            \u001b[0;32mif\u001b[0m \u001b[0mkey\u001b[0m \u001b[0;32min\u001b[0m \u001b[0mwordprob\u001b[0m\u001b[0;34m:\u001b[0m\u001b[0;34m\u001b[0m\u001b[0;34m\u001b[0m\u001b[0m\n\u001b[1;32m     18\u001b[0m                \u001b[0mwordprob\u001b[0m\u001b[0;34m[\u001b[0m\u001b[0mkey\u001b[0m\u001b[0;34m]\u001b[0m\u001b[0;34m.\u001b[0m\u001b[0mappend\u001b[0m\u001b[0;34m(\u001b[0m\u001b[0mword\u001b[0m\u001b[0;34m)\u001b[0m\u001b[0;34m\u001b[0m\u001b[0;34m\u001b[0m\u001b[0m\n",
      "\u001b[0;31mKeyboardInterrupt\u001b[0m: "
     ]
    }
   ],
   "source": [
    "e = Entropy()\n",
    "\n",
    "e.run()"
   ]
  },
  {
   "cell_type": "code",
   "execution_count": null,
   "metadata": {},
   "outputs": [],
   "source": []
  }
 ],
 "metadata": {
  "interpreter": {
   "hash": "779d32e33bbdd4b0f11414551ecd4e05fdefdab11a22ed998b2665b85200c83e"
  },
  "kernelspec": {
   "display_name": "Python 3.9.7 ('base')",
   "language": "python",
   "name": "python3"
  },
  "language_info": {
   "codemirror_mode": {
    "name": "ipython",
    "version": 3
   },
   "file_extension": ".py",
   "mimetype": "text/x-python",
   "name": "python",
   "nbconvert_exporter": "python",
   "pygments_lexer": "ipython3",
   "version": "3.9.7"
  },
  "orig_nbformat": 4
 },
 "nbformat": 4,
 "nbformat_minor": 2
}
