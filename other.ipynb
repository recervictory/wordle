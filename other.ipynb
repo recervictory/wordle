{
 "cells": [
  {
   "cell_type": "code",
   "execution_count": 3,
   "metadata": {},
   "outputs": [
    {
     "name": "stdout",
     "output_type": "stream",
     "text": [
      "\n",
      "\n"
     ]
    }
   ],
   "source": [
    "words = []\n",
    "letter=\"a\"\n",
    "position=1\n",
    "wordlist=[]\n",
    "with open('12972_allowed_words.txt') as w:\n",
    "  words = w.readlines()\n",
    "\n",
    "while letter!='':\n",
    "  del wordlist[:]\n",
    "  letter=input(\"What letter do you know? \")\n",
    "  color=input(\"What color is it? (Y,G,B): \")\n",
    "  if color == 'g' or color == 'G' or color == 'y' or color == 'Y':\n",
    "    position=int(input(\"What position is it? (1-5)\"))-1\n",
    "  for word in words:\n",
    "    if color == 'g' or color == 'G':\n",
    "      if word[position]==letter:\n",
    "        wordlist.append(word)\n",
    "    elif color == 'b' or color == 'B':\n",
    "      if letter not in word:\n",
    "        wordlist.append(word)\n",
    "    elif color == 'y' or color == 'Y':\n",
    "      if letter in word:\n",
    "        if word[position]!=letter:\n",
    "          wordlist.append(word)\n",
    "  words=wordlist.copy()\n",
    "  print(*wordlist)"
   ]
  },
  {
   "cell_type": "code",
   "execution_count": null,
   "metadata": {},
   "outputs": [],
   "source": []
  }
 ],
 "metadata": {
  "interpreter": {
   "hash": "779d32e33bbdd4b0f11414551ecd4e05fdefdab11a22ed998b2665b85200c83e"
  },
  "kernelspec": {
   "display_name": "Python 3.9.7 ('base')",
   "language": "python",
   "name": "python3"
  },
  "language_info": {
   "codemirror_mode": {
    "name": "ipython",
    "version": 3
   },
   "file_extension": ".py",
   "mimetype": "text/x-python",
   "name": "python",
   "nbconvert_exporter": "python",
   "pygments_lexer": "ipython3",
   "version": "3.9.7"
  },
  "orig_nbformat": 4
 },
 "nbformat": 4,
 "nbformat_minor": 2
}
